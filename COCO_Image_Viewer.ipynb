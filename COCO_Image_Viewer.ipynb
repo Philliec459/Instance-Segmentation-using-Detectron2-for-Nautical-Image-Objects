{
 "cells": [
  {
   "cell_type": "markdown",
   "metadata": {},
   "source": [
    "# COCO Image Viewer\n",
    "This notebook will allow you to view details about a COCO dataset and preview segmentations on annotated images.\n",
    "Learn more about it at: http://cocodataset.org/"
   ]
  },
  {
   "cell_type": "code",
   "execution_count": 2,
   "metadata": {
    "ExecuteTime": {
     "end_time": "2019-07-27T08:58:05.441736Z",
     "start_time": "2019-07-27T08:58:05.075740Z"
    }
   },
   "outputs": [],
   "source": [
    "import IPython\n",
    "import os\n",
    "import json\n",
    "import random\n",
    "import numpy as np\n",
    "import requests\n",
    "from io import BytesIO\n",
    "from math import trunc\n",
    "from PIL import Image as PILImage\n",
    "from PIL import ImageDraw as PILImageDraw"
   ]
  },
  {
   "cell_type": "code",
   "execution_count": 3,
   "metadata": {
    "ExecuteTime": {
     "end_time": "2019-07-27T08:58:05.486614Z",
     "start_time": "2019-07-27T08:58:05.443733Z"
    }
   },
   "outputs": [],
   "source": [
    "# Load the dataset json\n",
    "class CocoDataset():\n",
    "    def __init__(self, annotation_path, image_dir):\n",
    "        self.annotation_path = annotation_path\n",
    "        self.image_dir = image_dir\n",
    "        self.colors = ['blue', 'purple', 'red', 'green', 'orange', 'salmon', 'pink', 'gold',\n",
    "                       'orchid', 'slateblue', 'limegreen', 'seagreen', 'darkgreen', 'olive',\n",
    "                       'teal', 'aquamarine', 'steelblue', 'powderblue', 'dodgerblue', 'navy',\n",
    "                       'magenta', 'sienna', 'maroon']\n",
    "\n",
    "        json_file = open(self.annotation_path)\n",
    "        self.coco = json.load(json_file)\n",
    "        json_file.close()\n",
    "\n",
    "        self.process_info()\n",
    "        self.process_licenses()\n",
    "        self.process_categories()\n",
    "        self.process_images()\n",
    "        self.process_segmentations()\n",
    "\n",
    "    def display_info(self):\n",
    "        print('Dataset Info:')\n",
    "        print('=============')\n",
    "        if self.info is None:\n",
    "            return\n",
    "        for key, item in self.info.items():\n",
    "            print('  {}: {}'.format(key, item))\n",
    "\n",
    "        requirements = [['description', str],\n",
    "                        ['url', str],\n",
    "                        ['version', str],\n",
    "                        ['year', int],\n",
    "                        ['contributor', str],\n",
    "                        ['date_created', str]]\n",
    "        for req, req_type in requirements:\n",
    "            if req not in self.info:\n",
    "                print('ERROR: {} is missing'.format(req))\n",
    "            elif type(self.info[req]) != req_type:\n",
    "                print('ERROR: {} should be type {}'.format(req, str(req_type)))\n",
    "        print('')\n",
    "\n",
    "    def display_licenses(self):\n",
    "        print('Licenses:')\n",
    "        print('=========')\n",
    "\n",
    "        if self.licenses is None:\n",
    "            return\n",
    "        requirements = [['id', int],\n",
    "                        ['url', str],\n",
    "                        ['name', str]]\n",
    "        for license in self.licenses:\n",
    "            for key, item in license.items():\n",
    "                print('  {}: {}'.format(key, item))\n",
    "            for req, req_type in requirements:\n",
    "                if req not in license:\n",
    "                    print('ERROR: {} is missing'.format(req))\n",
    "                elif type(license[req]) != req_type:\n",
    "                    print('ERROR: {} should be type {}'.format(\n",
    "                        req, str(req_type)))\n",
    "            print('')\n",
    "        print('')\n",
    "\n",
    "    def display_categories(self):\n",
    "        print('Categories:')\n",
    "        print('=========')\n",
    "        for sc_key, sc_val in self.super_categories.items():\n",
    "            print('  super_category: {}'.format(sc_key))\n",
    "            for cat_id in sc_val:\n",
    "                print('    id {}: {}'.format(\n",
    "                    cat_id, self.categories[cat_id]['name']))\n",
    "            print('')\n",
    "\n",
    "    def display_image(self, image_id, show_polys=True, show_bbox=True, show_crowds=True, use_url=False):\n",
    "        print('Image:')\n",
    "        print('======')\n",
    "        if image_id == 'random':\n",
    "            image_id = random.choice(list(self.images.keys()))\n",
    "\n",
    "        # Print the image info\n",
    "        image = self.images[image_id]\n",
    "        for key, val in image.items():\n",
    "            print('  {}: {}'.format(key, val))\n",
    "\n",
    "        # Open the image\n",
    "        if use_url:\n",
    "            image_path = image['coco_url']\n",
    "            response = requests.get(image_path)\n",
    "            image = PILImage.open(BytesIO(response.content))\n",
    "\n",
    "        else:\n",
    "            # image_path = os.path.join(self.image_dir, image['file_name'])\n",
    "            image_path = \"{}/{}\".format(self.image_dir, image['file_name'])\n",
    "            image = PILImage.open(image_path)\n",
    "\n",
    "        # Calculate the size and adjusted display size\n",
    "        max_width = 600\n",
    "        image_width, image_height = image.size\n",
    "        adjusted_width = min(image_width, max_width)\n",
    "        adjusted_ratio = adjusted_width / image_width\n",
    "        adjusted_height = adjusted_ratio * image_height\n",
    "\n",
    "        # Create list of polygons to be drawn\n",
    "        polygons = {}\n",
    "        bbox_polygons = {}\n",
    "        rle_regions = {}\n",
    "        poly_colors = {}\n",
    "        bbox_categories = {}\n",
    "        print('  segmentations ({}):'.format(\n",
    "            len(self.segmentations[image_id])))\n",
    "        for i, segm in enumerate(self.segmentations[image_id]):\n",
    "            polygons_list = []\n",
    "            if segm['iscrowd'] != 0:\n",
    "                # Gotta decode the RLE\n",
    "                px = 0\n",
    "                x, y = 0, 0\n",
    "                rle_list = []\n",
    "                for j, counts in enumerate(segm['segmentation']['counts']):\n",
    "                    if j % 2 == 0:\n",
    "                        # Empty pixels\n",
    "                        px += counts\n",
    "                    else:\n",
    "                        # Need to draw on these pixels, since we are drawing in vector form,\n",
    "                        # we need to draw horizontal lines on the image\n",
    "                        x_start = trunc(\n",
    "                            trunc(px / image_height) * adjusted_ratio)\n",
    "                        y_start = trunc(px % image_height * adjusted_ratio)\n",
    "                        px += counts\n",
    "                        x_end = trunc(trunc(px / image_height)\n",
    "                                      * adjusted_ratio)\n",
    "                        y_end = trunc(px % image_height * adjusted_ratio)\n",
    "                        if x_end == x_start:\n",
    "                            # This is only on one line\n",
    "                            rle_list.append(\n",
    "                                {'x': x_start, 'y': y_start, 'width': 1, 'height': (y_end - y_start)})\n",
    "                        if x_end > x_start:\n",
    "                            # This spans more than one line\n",
    "                            # Insert top line first\n",
    "                            rle_list.append(\n",
    "                                {'x': x_start, 'y': y_start, 'width': 1, 'height': (image_height - y_start)})\n",
    "\n",
    "                            # Insert middle lines if needed\n",
    "                            lines_spanned = x_end - x_start + 1  # total number of lines spanned\n",
    "                            full_lines_to_insert = lines_spanned - 2\n",
    "                            if full_lines_to_insert > 0:\n",
    "                                full_lines_to_insert = trunc(\n",
    "                                    full_lines_to_insert * adjusted_ratio)\n",
    "                                rle_list.append(\n",
    "                                    {'x': (x_start + 1), 'y': 0, 'width': full_lines_to_insert, 'height': image_height})\n",
    "\n",
    "                            # Insert bottom line\n",
    "                            rle_list.append(\n",
    "                                {'x': x_end, 'y': 0, 'width': 1, 'height': y_end})\n",
    "                if len(rle_list) > 0:\n",
    "                    rle_regions[segm['id']] = rle_list\n",
    "            else:\n",
    "                # Add the polygon segmentation\n",
    "                for segmentation_points in segm['segmentation']:\n",
    "                    segmentation_points = np.multiply(\n",
    "                        segmentation_points, adjusted_ratio).astype(int)\n",
    "                    polygons_list.append(\n",
    "                        str(segmentation_points).lstrip('[').rstrip(']'))\n",
    "            polygons[segm['id']] = polygons_list\n",
    "            if i < len(self.colors):\n",
    "                poly_colors[segm['id']] = self.colors[i]\n",
    "            else:\n",
    "                poly_colors[segm['id']] = 'white'\n",
    "\n",
    "            bbox = segm['bbox']\n",
    "            bbox_points = [bbox[0], bbox[1], bbox[0] + bbox[2], bbox[1],\n",
    "                           bbox[0] + bbox[2], bbox[1] +\n",
    "                           bbox[3], bbox[0], bbox[1] + bbox[3],\n",
    "                           bbox[0], bbox[1]]\n",
    "            bbox_points = np.multiply(bbox_points, adjusted_ratio).astype(int)\n",
    "            bbox_polygons[segm['id']] = str(\n",
    "                bbox_points).lstrip('[').rstrip(']')\n",
    "            bbox_categories[segm['id']] = self.categories[segm['category_id']]\n",
    "            # Print details\n",
    "            print('    {}:{}:{}'.format(\n",
    "                segm['id'], poly_colors[segm['id']], self.categories[segm['category_id']]))\n",
    "\n",
    "        # Draw segmentation polygons on image\n",
    "        html = '<div class=\"container\" style=\"position:relative;\">'\n",
    "        html += '<img src=\"{}\" style=\"position:relative;top:0px;left:0px;width:{}px;\">'.format(\n",
    "            image_path, adjusted_width)\n",
    "        html += '<div class=\"svgclass\"><svg width=\"{}\" height=\"{}\">'.format(\n",
    "            adjusted_width, adjusted_height)\n",
    "\n",
    "        if show_polys:\n",
    "            for seg_id, points_list in polygons.items():\n",
    "                fill_color = poly_colors[seg_id]\n",
    "                stroke_color = poly_colors[seg_id]\n",
    "                for points in points_list:\n",
    "                    html += '<polygon points=\"{}\" style=\"fill:{}; stroke:{}; stroke-width:1; fill-opacity:0.5\" />'.format(\n",
    "                        points, fill_color, stroke_color)\n",
    "\n",
    "        if show_crowds:\n",
    "            for seg_id, rect_list in rle_regions.items():\n",
    "                fill_color = poly_colors[seg_id]\n",
    "                stroke_color = poly_colors[seg_id]\n",
    "                for rect_def in rect_list:\n",
    "                    x, y = rect_def['x'], rect_def['y']\n",
    "                    w, h = rect_def['width'], rect_def['height']\n",
    "                    html += '<rect x=\"{}\" y=\"{}\" width=\"{}\" height=\"{}\" style=\"fill:{}; stroke:{}; stroke-width:1; fill-opacity:0.5; stroke-opacity:0.5\" />'.format(\n",
    "                        x, y, w, h, fill_color, stroke_color)\n",
    "\n",
    "        if show_bbox:\n",
    "            for seg_id, points in bbox_polygons.items():\n",
    "                x, y = [int(i) for i in points.split()[:2]]\n",
    "                html += '<text x=\"{}\" y=\"{}\" fill=\"yellow\">{}</text>'.format(\n",
    "                    x, y, bbox_categories[seg_id][\"name\"])\n",
    "                fill_color = poly_colors[seg_id]\n",
    "                stroke_color = poly_colors[seg_id]\n",
    "                html += '<polygon points=\"{}\" style=\"fill:{}; stroke:{}; stroke-width:1; fill-opacity:0\" />'.format(\n",
    "                    points, fill_color, stroke_color)\n",
    "\n",
    "        html += '</svg></div>'\n",
    "        html += '</div>'\n",
    "        html += '<style>'\n",
    "        html += '.svgclass { position:absolute; top:0px; left:0px;}'\n",
    "        html += '</style>'\n",
    "        return html\n",
    "\n",
    "    def process_info(self):\n",
    "        self.info = self.coco.get('info')\n",
    "\n",
    "    def process_licenses(self):\n",
    "        self.licenses = self.coco.get('licenses')\n",
    "\n",
    "    def process_categories(self):\n",
    "        self.categories = {}\n",
    "        self.super_categories = {}\n",
    "        for category in self.coco['categories']:\n",
    "            cat_id = category['id']\n",
    "            super_category = category['supercategory']\n",
    "\n",
    "            # Add category to the categories dict\n",
    "            if cat_id not in self.categories:\n",
    "                self.categories[cat_id] = category\n",
    "            else:\n",
    "                print(\"ERROR: Skipping duplicate category id: {}\".format(category))\n",
    "\n",
    "            # Add category to super_categories dict\n",
    "            if super_category not in self.super_categories:\n",
    "                # Create a new set with the category id\n",
    "                self.super_categories[super_category] = {cat_id}\n",
    "            else:\n",
    "                self.super_categories[super_category] |= {\n",
    "                    cat_id}  # Add category id to the set\n",
    "\n",
    "    def process_images(self):\n",
    "        self.images = {}\n",
    "        for image in self.coco['images']:\n",
    "            image_id = image['id']\n",
    "            if image_id in self.images:\n",
    "                print(\"ERROR: Skipping duplicate image id: {}\".format(image))\n",
    "            else:\n",
    "                self.images[image_id] = image\n",
    "\n",
    "    def process_segmentations(self):\n",
    "        self.segmentations = {}\n",
    "        for segmentation in self.coco['annotations']:\n",
    "            image_id = segmentation['image_id']\n",
    "            if image_id not in self.segmentations:\n",
    "                self.segmentations[image_id] = []\n",
    "            self.segmentations[image_id].append(segmentation)"
   ]
  },
  {
   "cell_type": "code",
   "execution_count": 4,
   "metadata": {
    "ExecuteTime": {
     "end_time": "2019-07-27T08:58:05.510585Z",
     "start_time": "2019-07-27T08:58:05.489608Z"
    }
   },
   "outputs": [
    {
     "name": "stdout",
     "output_type": "stream",
     "text": [
      "Dataset Info:\n",
      "=============\n",
      "Licenses:\n",
      "=========\n",
      "Categories:\n",
      "=========\n",
      "  super_category: buoy\n",
      "    id 0: buoy\n",
      "\n",
      "  super_category: land\n",
      "    id 1: land\n",
      "\n",
      "  super_category: ship\n",
      "    id 2: ship\n",
      "\n"
     ]
    }
   ],
   "source": [
    "annotation_path = \"./data_plus_boats/trainval.json\"\n",
    "image_dir = \"./data_plus_boats/images\"\n",
    "\n",
    "coco_dataset = CocoDataset(annotation_path, image_dir)\n",
    "coco_dataset.display_info()\n",
    "coco_dataset.display_licenses()\n",
    "coco_dataset.display_categories()"
   ]
  },
  {
   "cell_type": "code",
   "execution_count": 5,
   "metadata": {
    "ExecuteTime": {
     "end_time": "2019-07-27T08:58:05.520552Z",
     "start_time": "2019-07-27T08:58:05.512547Z"
    },
    "scrolled": false
   },
   "outputs": [
    {
     "name": "stdout",
     "output_type": "stream",
     "text": [
      "0 {'height': 3264, 'width': 4928, 'id': 0, 'file_name': 'DSC_4513.JPG'}\n",
      "1 {'height': 3264, 'width': 4928, 'id': 1, 'file_name': 'DSC_4682.JPG'}\n",
      "2 {'height': 3264, 'width': 4928, 'id': 2, 'file_name': 'DSC_4505.JPG'}\n",
      "3 {'height': 3264, 'width': 4928, 'id': 3, 'file_name': 'DSC_4591.JPG'}\n",
      "4 {'height': 3264, 'width': 4928, 'id': 4, 'file_name': 'DSC_4657.JPG'}\n",
      "5 {'height': 225, 'width': 225, 'id': 5, 'file_name': '20.jpg'}\n",
      "6 {'height': 978, 'width': 1835, 'id': 6, 'file_name': 'DSC_5007.JPG'}\n",
      "7 {'height': 135, 'width': 372, 'id': 7, 'file_name': '16.jpg'}\n",
      "8 {'height': 3264, 'width': 4928, 'id': 8, 'file_name': 'DSC_4620.JPG'}\n",
      "9 {'height': 3264, 'width': 4928, 'id': 9, 'file_name': 'DSC_4437.JPG'}\n",
      "10 {'height': 3264, 'width': 4928, 'id': 10, 'file_name': 'DSC_4525.JPG'}\n",
      "11 {'height': 2160, 'width': 3840, 'id': 11, 'file_name': 'DSC_0136.JPG'}\n",
      "12 {'height': 194, 'width': 259, 'id': 12, 'file_name': '6.jpg'}\n",
      "13 {'height': 3264, 'width': 4928, 'id': 13, 'file_name': 'DSC_4499.JPG'}\n",
      "14 {'height': 3264, 'width': 4928, 'id': 14, 'file_name': 'DSC_4421.JPG'}\n",
      "15 {'height': 168, 'width': 299, 'id': 15, 'file_name': '7.jpg'}\n",
      "16 {'height': 3264, 'width': 4928, 'id': 16, 'file_name': 'DSC_4621.JPG'}\n",
      "17 {'height': 3264, 'width': 4928, 'id': 17, 'file_name': 'DSC_4676.JPG'}\n",
      "18 {'height': 182, 'width': 278, 'id': 18, 'file_name': '17.jpg'}\n",
      "19 {'height': 3264, 'width': 4928, 'id': 19, 'file_name': 'DSC_4586.JPG'}\n",
      "20 {'height': 3264, 'width': 4928, 'id': 20, 'file_name': 'DSC_4656.JPG'}\n",
      "21 {'height': 194, 'width': 259, 'id': 21, 'file_name': '21.jpg'}\n",
      "22 {'height': 3264, 'width': 4928, 'id': 22, 'file_name': 'DSC_4441.JPG'}\n",
      "23 {'height': 3264, 'width': 4928, 'id': 23, 'file_name': 'DSC_4416.JPG'}\n",
      "24 {'height': 3264, 'width': 4928, 'id': 24, 'file_name': 'DSC_4683.JPG'}\n",
      "25 {'height': 3264, 'width': 4928, 'id': 25, 'file_name': 'DSC_4519.JPG'}\n",
      "26 {'height': 225, 'width': 225, 'id': 26, 'file_name': '10.jpg'}\n",
      "27 {'height': 3264, 'width': 4928, 'id': 27, 'file_name': 'DSC_4626.JPG'}\n",
      "28 {'height': 2160, 'width': 3840, 'id': 28, 'file_name': 'DSC_0130.JPG'}\n",
      "29 {'height': 3264, 'width': 4928, 'id': 29, 'file_name': 'DSC_4535.JPG'}\n",
      "30 {'height': 3264, 'width': 4928, 'id': 30, 'file_name': 'DSC_4427.JPG'}\n",
      "31 {'height': 3264, 'width': 4928, 'id': 31, 'file_name': 'DSC_4684.JPG'}\n",
      "32 {'height': 3264, 'width': 4928, 'id': 32, 'file_name': 'DSC_4503.JPG'}\n",
      "33 {'height': 3264, 'width': 4928, 'id': 33, 'file_name': 'DSC_4597.JPG'}\n",
      "34 {'height': 3264, 'width': 4928, 'id': 34, 'file_name': 'DSC_4606.JPG'}\n",
      "35 {'height': 976, 'width': 1829, 'id': 35, 'file_name': 'DSC_5017.JPG'}\n",
      "36 {'height': 3264, 'width': 4928, 'id': 36, 'file_name': 'DSC_4580.JPG'}\n",
      "37 {'height': 1049, 'width': 1851, 'id': 37, 'file_name': 'DSC_5000.JPG'}\n",
      "38 {'height': 3264, 'width': 4928, 'id': 38, 'file_name': 'DSC_4538.JPG'}\n",
      "39 {'height': 3264, 'width': 4928, 'id': 39, 'file_name': 'DSC_4579.JPG'}\n",
      "40 {'height': 3264, 'width': 4928, 'id': 40, 'file_name': 'DSC_4685.JPG'}\n",
      "41 {'height': 3264, 'width': 4928, 'id': 41, 'file_name': 'DSC_4514.JPG'}\n",
      "42 {'height': 158, 'width': 319, 'id': 42, 'file_name': '1.jpg'}\n",
      "43 {'height': 3264, 'width': 4928, 'id': 43, 'file_name': 'DSC_4488.JPG'}\n",
      "44 {'height': 3264, 'width': 4928, 'id': 44, 'file_name': 'DSC_4430.JPG'}\n",
      "45 {'height': 3264, 'width': 4928, 'id': 45, 'file_name': 'DSC_4627.JPG'}\n",
      "46 {'height': 177, 'width': 284, 'id': 46, 'file_name': '2.jpg'}\n",
      "47 {'height': 2160, 'width': 3840, 'id': 47, 'file_name': 'DSC_0132.JPG'}\n",
      "48 {'height': 188, 'width': 268, 'id': 48, 'file_name': '12.jpg'}\n",
      "49 {'height': 3264, 'width': 4928, 'id': 49, 'file_name': 'DSC_4583.JPG'}\n",
      "50 {'height': 2160, 'width': 3840, 'id': 50, 'file_name': 'DSC_0128.JPG'}\n",
      "51 {'height': 3264, 'width': 4928, 'id': 51, 'file_name': 'DSC_4595.JPG'}\n",
      "52 {'height': 3264, 'width': 4928, 'id': 52, 'file_name': 'DSC_4413.JPG'}\n",
      "53 {'height': 3264, 'width': 4928, 'id': 53, 'file_name': 'DSC_4452.JPG'}\n",
      "54 {'height': 3264, 'width': 4928, 'id': 54, 'file_name': 'DSC_4412.JPG'}\n",
      "55 {'height': 3264, 'width': 4928, 'id': 55, 'file_name': 'DSC_4594.JPG'}\n",
      "56 {'height': 3264, 'width': 4928, 'id': 56, 'file_name': 'DSC_4486.JPG'}\n",
      "57 {'height': 975, 'width': 1827, 'id': 57, 'file_name': 'DSC_5014.JPG'}\n",
      "58 {'height': 3264, 'width': 4928, 'id': 58, 'file_name': 'DSC_4428.JPG'}\n",
      "59 {'height': 275, 'width': 183, 'id': 59, 'file_name': '13.jpg'}\n",
      "60 {'height': 2160, 'width': 3840, 'id': 60, 'file_name': 'DSC_0133.JPG'}\n",
      "61 {'height': 145, 'width': 348, 'id': 61, 'file_name': '3.jpg'}\n",
      "62 {'height': 3264, 'width': 4928, 'id': 62, 'file_name': 'DSC_4585.JPG'}\n",
      "63 {'height': 980, 'width': 1836, 'id': 63, 'file_name': 'DSC_5005.JPG'}\n",
      "64 {'height': 3264, 'width': 4928, 'id': 64, 'file_name': 'DSC_4614.JPG'}\n",
      "65 {'height': 190, 'width': 266, 'id': 65, 'file_name': '8.jpg'}\n",
      "66 {'height': 3264, 'width': 4928, 'id': 66, 'file_name': 'DSC_4602.JPG'}\n",
      "67 {'height': 3264, 'width': 4928, 'id': 67, 'file_name': 'DSC_4593.JPG'}\n",
      "68 {'height': 3264, 'width': 4928, 'id': 68, 'file_name': 'DSC_4679.JPG'}\n",
      "69 {'height': 3264, 'width': 4928, 'id': 69, 'file_name': 'DSC_4680.JPG'}\n",
      "70 {'height': 3264, 'width': 4928, 'id': 70, 'file_name': 'DSC_4511.JPG'}\n",
      "71 {'height': 3264, 'width': 4928, 'id': 71, 'file_name': 'DSC_4531.JPG'}\n",
      "72 {'height': 168, 'width': 300, 'id': 72, 'file_name': '4.jpg'}\n",
      "73 {'height': 2160, 'width': 3840, 'id': 73, 'file_name': 'DSC_0134.JPG'}\n",
      "74 {'height': 3264, 'width': 4928, 'id': 74, 'file_name': 'DSC_4419.JPG'}\n",
      "75 {'height': 168, 'width': 300, 'id': 75, 'file_name': '14.jpg'}\n",
      "76 {'height': 176, 'width': 286, 'id': 76, 'file_name': '15.jpg'}\n",
      "77 {'height': 3264, 'width': 4928, 'id': 77, 'file_name': 'DSC_4658.JPG'}\n",
      "78 {'height': 2160, 'width': 3840, 'id': 78, 'file_name': 'DSC_0135.JPG'}\n",
      "79 {'height': 168, 'width': 300, 'id': 79, 'file_name': '5.jpg'}\n",
      "80 {'height': 967, 'width': 1836, 'id': 80, 'file_name': 'DSC_5008.JPG'}\n",
      "81 {'height': 3264, 'width': 4928, 'id': 81, 'file_name': 'DSC_4530.JPG'}\n",
      "82 {'height': 3264, 'width': 4928, 'id': 82, 'file_name': 'DSC_4475.JPG'}\n",
      "83 {'height': 3264, 'width': 4928, 'id': 83, 'file_name': 'DSC_4422.JPG'}\n",
      "84 {'height': 3264, 'width': 4928, 'id': 84, 'file_name': 'DSC_4588.JPG'}\n",
      "85 {'height': 3264, 'width': 4928, 'id': 85, 'file_name': 'DSC_4681.JPG'}\n",
      "86 {'height': 142, 'width': 356, 'id': 86, 'file_name': '19.jpg'}\n",
      "87 {'height': 3264, 'width': 4928, 'id': 87, 'file_name': 'DSC_4414.JPG'}\n",
      "88 {'height': 3264, 'width': 4928, 'id': 88, 'file_name': 'DSC_4678.JPG'}\n",
      "89 {'height': 3264, 'width': 4928, 'id': 89, 'file_name': 'DSC_4506.JPG'}\n",
      "90 {'height': 692, 'width': 924, 'id': 90, 'file_name': '23.jpg'}\n",
      "91 {'height': 982, 'width': 1843, 'id': 91, 'file_name': 'DSC_5012.JPG'}\n",
      "92 {'height': 168, 'width': 300, 'id': 92, 'file_name': '9.jpg'}\n",
      "93 {'height': 3264, 'width': 4928, 'id': 93, 'file_name': 'DSC_4584.JPG'}\n"
     ]
    }
   ],
   "source": [
    "for k, v in coco_dataset.images.items():\n",
    "    print(k, v)"
   ]
  },
  {
   "cell_type": "code",
   "execution_count": 6,
   "metadata": {
    "ExecuteTime": {
     "end_time": "2019-07-27T08:58:05.587373Z",
     "start_time": "2019-07-27T08:58:05.574383Z"
    }
   },
   "outputs": [
    {
     "name": "stdout",
     "output_type": "stream",
     "text": [
      "Image:\n",
      "======\n",
      "  height: 3264\n",
      "  width: 4928\n",
      "  id: 1\n",
      "  file_name: DSC_4682.JPG\n",
      "  segmentations (3):\n",
      "    5:blue:{'supercategory': 'land', 'id': 1, 'name': 'land'}\n",
      "    6:purple:{'supercategory': 'ship', 'id': 2, 'name': 'ship'}\n",
      "    7:red:{'supercategory': 'buoy', 'id': 0, 'name': 'buoy'}\n"
     ]
    },
    {
     "data": {
      "text/html": [
       "<div class=\"container\" style=\"position:relative;\"><img src=\"./data_plus_boats/images/DSC_4682.JPG\" style=\"position:relative;top:0px;left:0px;width:600px;\"><div class=\"svgclass\"><svg width=\"600\" height=\"397.4025974025974\"><polygon points=\"572  31 522  49 570  86 531  96 600 118 600  26\" style=\"fill:blue; stroke:blue; stroke-width:1; fill-opacity:0.5\" /><polygon points=\"285 147 284 154 288 168 349 178 379 178 380 163 365 161 361 164 361 168\n",
       " 342 167 345 151 337 150 332 156 330 159 300 153 290 150\" style=\"fill:purple; stroke:purple; stroke-width:1; fill-opacity:0.5\" /><polygon points=\"229 200 238 201 239 204 237 207 234 211 240 213 238 216 233 222 234 226\n",
       " 235 226 238 299 231 302 227 299 229 226 231 225 231 222 226 213 229 210\n",
       " 231 211 225 202\" style=\"fill:red; stroke:red; stroke-width:1; fill-opacity:0.5\" /><text x=\"522\" y=\"26\" fill=\"yellow\">land</text><polygon points=\"522  26 599  26 599 118 522 118 522  26\" style=\"fill:blue; stroke:blue; stroke-width:1; fill-opacity:0\" /><text x=\"284\" y=\"147\" fill=\"yellow\">ship</text><polygon points=\"284 147 380 147 380 178 284 178 284 147\" style=\"fill:purple; stroke:purple; stroke-width:1; fill-opacity:0\" /><text x=\"225\" y=\"200\" fill=\"yellow\">buoy</text><polygon points=\"225 200 240 200 240 302 225 302 225 200\" style=\"fill:red; stroke:red; stroke-width:1; fill-opacity:0\" /></svg></div></div><style>.svgclass { position:absolute; top:0px; left:0px;}</style>"
      ],
      "text/plain": [
       "<IPython.core.display.HTML object>"
      ]
     },
     "execution_count": 6,
     "metadata": {},
     "output_type": "execute_result"
    }
   ],
   "source": [
    "html = coco_dataset.display_image(1, use_url=False)\n",
    "IPython.display.HTML(html)"
   ]
  },
  {
   "cell_type": "code",
   "execution_count": 7,
   "metadata": {},
   "outputs": [
    {
     "name": "stdout",
     "output_type": "stream",
     "text": [
      "Image:\n",
      "======\n",
      "  height: 3264\n",
      "  width: 4928\n",
      "  id: 2\n",
      "  file_name: DSC_4505.JPG\n",
      "  segmentations (4):\n",
      "    8:blue:{'supercategory': 'land', 'id': 1, 'name': 'land'}\n",
      "    9:purple:{'supercategory': 'buoy', 'id': 0, 'name': 'buoy'}\n",
      "    10:red:{'supercategory': 'buoy', 'id': 0, 'name': 'buoy'}\n",
      "    11:green:{'supercategory': 'buoy', 'id': 0, 'name': 'buoy'}\n"
     ]
    },
    {
     "data": {
      "text/html": [
       "<div class=\"container\" style=\"position:relative;\"><img src=\"./data_plus_boats/images/DSC_4505.JPG\" style=\"position:relative;top:0px;left:0px;width:600px;\"><div class=\"svgclass\"><svg width=\"600\" height=\"397.4025974025974\"><polygon points=\"304  99 341  96 345  87 383  74 442  59 509  61 599  51 599 104 450 103\n",
       " 479 100\" style=\"fill:blue; stroke:blue; stroke-width:1; fill-opacity:0.5\" /><polygon points=\"161 107 162 107 162 112 163 113 163 114 162 114 161 114 161 113\" style=\"fill:purple; stroke:purple; stroke-width:1; fill-opacity:0.5\" /><polygon points=\"322 124 322 123 322 123 323 112 323 110 324 110 324 112 323 113 323 123\n",
       " 323 123 324 124\" style=\"fill:red; stroke:red; stroke-width:1; fill-opacity:0.5\" /><polygon points=\"462 102 461 103 461 103 461 104 461 113 460 113 460 114 461 115 462 115\n",
       " 462 113 461 114 462 104 462 103\" style=\"fill:green; stroke:green; stroke-width:1; fill-opacity:0.5\" /><text x=\"304\" y=\"51\" fill=\"yellow\">land</text><polygon points=\"304  51 599  51 599 104 304 104 304  51\" style=\"fill:blue; stroke:blue; stroke-width:1; fill-opacity:0\" /><text x=\"161\" y=\"107\" fill=\"yellow\">buoy</text><polygon points=\"161 107 163 107 163 114 161 114 161 107\" style=\"fill:purple; stroke:purple; stroke-width:1; fill-opacity:0\" /><text x=\"322\" y=\"110\" fill=\"yellow\">buoy</text><polygon points=\"322 110 324 110 324 124 322 124 322 110\" style=\"fill:red; stroke:red; stroke-width:1; fill-opacity:0\" /><text x=\"460\" y=\"102\" fill=\"yellow\">buoy</text><polygon points=\"460 102 462 102 462 115 460 115 460 102\" style=\"fill:green; stroke:green; stroke-width:1; fill-opacity:0\" /></svg></div></div><style>.svgclass { position:absolute; top:0px; left:0px;}</style>"
      ],
      "text/plain": [
       "<IPython.core.display.HTML object>"
      ]
     },
     "execution_count": 7,
     "metadata": {},
     "output_type": "execute_result"
    }
   ],
   "source": [
    "html = coco_dataset.display_image(2, use_url=False)\n",
    "IPython.display.HTML(html)"
   ]
  },
  {
   "cell_type": "code",
   "execution_count": 8,
   "metadata": {},
   "outputs": [
    {
     "name": "stdout",
     "output_type": "stream",
     "text": [
      "Image:\n",
      "======\n",
      "  height: 3264\n",
      "  width: 4928\n",
      "  id: 3\n",
      "  file_name: DSC_4591.JPG\n",
      "  segmentations (3):\n",
      "    12:blue:{'supercategory': 'land', 'id': 1, 'name': 'land'}\n",
      "    13:purple:{'supercategory': 'land', 'id': 1, 'name': 'land'}\n",
      "    14:red:{'supercategory': 'buoy', 'id': 0, 'name': 'buoy'}\n"
     ]
    },
    {
     "data": {
      "text/html": [
       "<div class=\"container\" style=\"position:relative;\"><img src=\"./data_plus_boats/images/DSC_4591.JPG\" style=\"position:relative;top:0px;left:0px;width:600px;\"><div class=\"svgclass\"><svg width=\"600\" height=\"397.4025974025974\"><polygon points=\"346 175   0 186   0 178  58 177 205 173 238 165 309 166 600 154 600 166\" style=\"fill:blue; stroke:blue; stroke-width:1; fill-opacity:0.5\" /><polygon points=\"249 183 600 169 600 174\" style=\"fill:purple; stroke:purple; stroke-width:1; fill-opacity:0.5\" /><polygon points=\"230 190 231 190 231 197 230 197\" style=\"fill:red; stroke:red; stroke-width:1; fill-opacity:0.5\" /><text x=\"0\" y=\"154\" fill=\"yellow\">land</text><polygon points=\"  0 154 599 154 599 186   0 186   0 154\" style=\"fill:blue; stroke:blue; stroke-width:1; fill-opacity:0\" /><text x=\"249\" y=\"169\" fill=\"yellow\">land</text><polygon points=\"249 169 599 169 599 183 249 183 249 169\" style=\"fill:purple; stroke:purple; stroke-width:1; fill-opacity:0\" /><text x=\"230\" y=\"190\" fill=\"yellow\">buoy</text><polygon points=\"230 190 231 190 231 197 230 197 230 190\" style=\"fill:red; stroke:red; stroke-width:1; fill-opacity:0\" /></svg></div></div><style>.svgclass { position:absolute; top:0px; left:0px;}</style>"
      ],
      "text/plain": [
       "<IPython.core.display.HTML object>"
      ]
     },
     "execution_count": 8,
     "metadata": {},
     "output_type": "execute_result"
    }
   ],
   "source": [
    "html = coco_dataset.display_image(3, use_url=False)\n",
    "IPython.display.HTML(html)"
   ]
  },
  {
   "cell_type": "code",
   "execution_count": 9,
   "metadata": {},
   "outputs": [
    {
     "name": "stdout",
     "output_type": "stream",
     "text": [
      "Image:\n",
      "======\n",
      "  height: 3264\n",
      "  width: 4928\n",
      "  id: 4\n",
      "  file_name: DSC_4657.JPG\n",
      "  segmentations (7):\n",
      "    15:blue:{'supercategory': 'ship', 'id': 2, 'name': 'ship'}\n",
      "    16:purple:{'supercategory': 'ship', 'id': 2, 'name': 'ship'}\n",
      "    17:red:{'supercategory': 'ship', 'id': 2, 'name': 'ship'}\n",
      "    18:green:{'supercategory': 'buoy', 'id': 0, 'name': 'buoy'}\n",
      "    19:orange:{'supercategory': 'land', 'id': 1, 'name': 'land'}\n",
      "    20:salmon:{'supercategory': 'land', 'id': 1, 'name': 'land'}\n",
      "    21:pink:{'supercategory': 'land', 'id': 1, 'name': 'land'}\n"
     ]
    },
    {
     "data": {
      "text/html": [
       "<div class=\"container\" style=\"position:relative;\"><img src=\"./data_plus_boats/images/DSC_4657.JPG\" style=\"position:relative;top:0px;left:0px;width:600px;\"><div class=\"svgclass\"><svg width=\"600\" height=\"397.4025974025974\"><polygon points=\"393 211 392 204 390 199 390 199 389 203 387 199 379 199 374 191 362 191\n",
       " 353 205 344 205 345 211\" style=\"fill:blue; stroke:blue; stroke-width:1; fill-opacity:0.5\" /><polygon points=\"121 234 160 236 158 236 121 236\" style=\"fill:purple; stroke:purple; stroke-width:1; fill-opacity:0.5\" /><polygon points=\"201 234 247 234 247 236 200 236 199 234\" style=\"fill:red; stroke:red; stroke-width:1; fill-opacity:0.5\" /><polygon points=\"447 207 447 207 447 214 446 214\" style=\"fill:green; stroke:green; stroke-width:1; fill-opacity:0.5\" /><polygon points=\"598 366 540 397 600 397\" style=\"fill:orange; stroke:orange; stroke-width:1; fill-opacity:0.5\" /><polygon points=\"355 202 353 205 344 205 344 207   0 206   0 199\" style=\"fill:salmon; stroke:salmon; stroke-width:1; fill-opacity:0.5\" /><polygon points=\"392 203 393 204 393 207 600 208 600 203\" style=\"fill:pink; stroke:pink; stroke-width:1; fill-opacity:0.5\" /><text x=\"344\" y=\"191\" fill=\"yellow\">ship</text><polygon points=\"344 191 393 191 393 211 344 211 344 191\" style=\"fill:blue; stroke:blue; stroke-width:1; fill-opacity:0\" /><text x=\"121\" y=\"234\" fill=\"yellow\">ship</text><polygon points=\"121 234 160 234 160 236 121 236 121 234\" style=\"fill:purple; stroke:purple; stroke-width:1; fill-opacity:0\" /><text x=\"199\" y=\"234\" fill=\"yellow\">ship</text><polygon points=\"199 234 247 234 247 236 199 236 199 234\" style=\"fill:red; stroke:red; stroke-width:1; fill-opacity:0\" /><text x=\"446\" y=\"206\" fill=\"yellow\">buoy</text><polygon points=\"446 206 447 206 447 213 446 213 446 206\" style=\"fill:green; stroke:green; stroke-width:1; fill-opacity:0\" /><text x=\"540\" y=\"366\" fill=\"yellow\">land</text><polygon points=\"540 366 599 366 599 397 540 397 540 366\" style=\"fill:orange; stroke:orange; stroke-width:1; fill-opacity:0\" /><text x=\"0\" y=\"199\" fill=\"yellow\">land</text><polygon points=\"  0 199 355 199 355 207   0 207   0 199\" style=\"fill:salmon; stroke:salmon; stroke-width:1; fill-opacity:0\" /><text x=\"392\" y=\"202\" fill=\"yellow\">land</text><polygon points=\"392 202 599 202 599 208 392 208 392 202\" style=\"fill:pink; stroke:pink; stroke-width:1; fill-opacity:0\" /></svg></div></div><style>.svgclass { position:absolute; top:0px; left:0px;}</style>"
      ],
      "text/plain": [
       "<IPython.core.display.HTML object>"
      ]
     },
     "execution_count": 9,
     "metadata": {},
     "output_type": "execute_result"
    }
   ],
   "source": [
    "html = coco_dataset.display_image(4, use_url=False)\n",
    "IPython.display.HTML(html)"
   ]
  },
  {
   "cell_type": "code",
   "execution_count": 10,
   "metadata": {},
   "outputs": [
    {
     "name": "stdout",
     "output_type": "stream",
     "text": [
      "Image:\n",
      "======\n",
      "  height: 3264\n",
      "  width: 4928\n",
      "  id: 19\n",
      "  file_name: DSC_4586.JPG\n",
      "  segmentations (1):\n",
      "    52:blue:{'supercategory': 'land', 'id': 1, 'name': 'land'}\n",
      "Image:\n",
      "======\n",
      "  height: 3264\n",
      "  width: 4928\n",
      "  id: 1\n",
      "  file_name: DSC_4682.JPG\n",
      "  segmentations (3):\n",
      "    5:blue:{'supercategory': 'land', 'id': 1, 'name': 'land'}\n",
      "    6:purple:{'supercategory': 'ship', 'id': 2, 'name': 'ship'}\n",
      "    7:red:{'supercategory': 'buoy', 'id': 0, 'name': 'buoy'}\n"
     ]
    },
    {
     "data": {
      "text/html": [
       "<div class=\"container\" style=\"position:relative;\"><img src=\"./data_plus_boats/images/DSC_4682.JPG\" style=\"position:relative;top:0px;left:0px;width:600px;\"><div class=\"svgclass\"><svg width=\"600\" height=\"397.4025974025974\"><polygon points=\"572  31 522  49 570  86 531  96 600 118 600  26\" style=\"fill:blue; stroke:blue; stroke-width:1; fill-opacity:0.5\" /><polygon points=\"285 147 284 154 288 168 349 178 379 178 380 163 365 161 361 164 361 168\n",
       " 342 167 345 151 337 150 332 156 330 159 300 153 290 150\" style=\"fill:purple; stroke:purple; stroke-width:1; fill-opacity:0.5\" /><polygon points=\"229 200 238 201 239 204 237 207 234 211 240 213 238 216 233 222 234 226\n",
       " 235 226 238 299 231 302 227 299 229 226 231 225 231 222 226 213 229 210\n",
       " 231 211 225 202\" style=\"fill:red; stroke:red; stroke-width:1; fill-opacity:0.5\" /><text x=\"522\" y=\"26\" fill=\"yellow\">land</text><polygon points=\"522  26 599  26 599 118 522 118 522  26\" style=\"fill:blue; stroke:blue; stroke-width:1; fill-opacity:0\" /><text x=\"284\" y=\"147\" fill=\"yellow\">ship</text><polygon points=\"284 147 380 147 380 178 284 178 284 147\" style=\"fill:purple; stroke:purple; stroke-width:1; fill-opacity:0\" /><text x=\"225\" y=\"200\" fill=\"yellow\">buoy</text><polygon points=\"225 200 240 200 240 302 225 302 225 200\" style=\"fill:red; stroke:red; stroke-width:1; fill-opacity:0\" /></svg></div></div><style>.svgclass { position:absolute; top:0px; left:0px;}</style>"
      ],
      "text/plain": [
       "<IPython.core.display.HTML object>"
      ]
     },
     "execution_count": 10,
     "metadata": {},
     "output_type": "execute_result"
    }
   ],
   "source": [
    "for i in 19,1:\n",
    "    html = coco_dataset.display_image(i, use_url=False)\n",
    "    \n",
    "IPython.display.HTML(html)"
   ]
  },
  {
   "cell_type": "code",
   "execution_count": null,
   "metadata": {},
   "outputs": [],
   "source": []
  },
  {
   "cell_type": "code",
   "execution_count": null,
   "metadata": {},
   "outputs": [],
   "source": []
  },
  {
   "cell_type": "code",
   "execution_count": null,
   "metadata": {},
   "outputs": [],
   "source": []
  }
 ],
 "metadata": {
  "kernelspec": {
   "display_name": "Python 3",
   "language": "python",
   "name": "python3"
  },
  "language_info": {
   "codemirror_mode": {
    "name": "ipython",
    "version": 3
   },
   "file_extension": ".py",
   "mimetype": "text/x-python",
   "name": "python",
   "nbconvert_exporter": "python",
   "pygments_lexer": "ipython3",
   "version": "3.7.7"
  },
  "toc": {
   "base_numbering": 1,
   "nav_menu": {},
   "number_sections": true,
   "sideBar": true,
   "skip_h1_title": false,
   "title_cell": "Table of Contents",
   "title_sidebar": "Contents",
   "toc_cell": false,
   "toc_position": {},
   "toc_section_display": true,
   "toc_window_display": false
  }
 },
 "nbformat": 4,
 "nbformat_minor": 2
}
